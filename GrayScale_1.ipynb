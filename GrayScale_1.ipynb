{
  "nbformat": 4,
  "nbformat_minor": 0,
  "metadata": {
    "colab": {
      "provenance": [],
      "include_colab_link": true
    },
    "kernelspec": {
      "name": "python3",
      "display_name": "Python 3"
    },
    "language_info": {
      "name": "python"
    }
  },
  "cells": [
    {
      "cell_type": "markdown",
      "metadata": {
        "id": "view-in-github",
        "colab_type": "text"
      },
      "source": [
        "<a href=\"https://colab.research.google.com/github/yibowang15/Capstone/blob/main/GrayScale_1.ipynb\" target=\"_parent\"><img src=\"https://colab.research.google.com/assets/colab-badge.svg\" alt=\"Open In Colab\"/></a>"
      ]
    },
    {
      "cell_type": "code",
      "execution_count": null,
      "metadata": {
        "id": "v-v_tBjvJhxE"
      },
      "outputs": [],
      "source": [
        "import cv2\n",
        "import os\n",
        "import numpy as np\n",
        "import zipfile\n",
        "from io import BytesIO\n",
        "\n",
        "# Step 1: take the average of the RGB to do the grayScaling\n",
        "def convert_to_grayscale(image_data):\n",
        "    # Transfer the bytes into array\n",
        "    image_array = np.frombuffer(image_data, np.uint8)\n",
        "\n",
        "    # decode the array into color image\n",
        "    color_image = cv2.imdecode(image_array, cv2.IMREAD_COLOR)\n",
        "\n",
        "    # calculate the avg of RGB values based on aurthor's approach\n",
        "    gray_image = np.mean(color_image, axis=2).astype(np.uint8)\n",
        "\n",
        "    return gray_image\n",
        "\n",
        "# Step 2: adjust the size to 224x224 for VGG 16\n",
        "def resize_image(image, target_size=(224, 224)):\n",
        "    resized_image = cv2.resize(image, target_size)\n",
        "    return resized_image\n",
        "\n",
        "# Step 3: Handle the photo in the zip file\n",
        "def process_images_in_zip(zip_path, output_folder):\n",
        "\n",
        "    # check the directory, if not exist, create new one\n",
        "    if not os.path.exists(output_folder):\n",
        "        os.makedirs(output_folder)\n",
        "\n",
        "    # Open zip\n",
        "    with zipfile.ZipFile(zip_path, 'r') as archive:\n",
        "        # Catch all the photos\n",
        "        image_files = [f for f in archive.namelist() if f.endswith(('.jpg', '.jpeg', '.png'))]\n",
        "\n",
        "        total_images = len(image_files)\n",
        "        print(f\"Total images to process: {total_images}\")\n",
        "\n",
        "        # loop through the photo\n",
        "        for i, image_file in enumerate(image_files):\n",
        "            # Catch the photo\n",
        "            with archive.open(image_file) as file:\n",
        "                image_data = file.read()\n",
        "\n",
        "            # Convert\n",
        "            gray_image = convert_to_grayscale(image_data)\n",
        "\n",
        "            # size adjustment 224x224\n",
        "            resized_gray_image = resize_image(gray_image)\n",
        "\n",
        "            # Save the picture\n",
        "            output_image_path = os.path.join(output_folder, os.path.basename(image_file))\n",
        "            cv2.imwrite(output_image_path, resized_gray_image)\n",
        "\n",
        "            # print the process\n",
        "\n",
        "            print(f\"Processed {i + 1}/{total_images} images ({((i + 1) / total_images) * 100:.2f}%)\")\n",
        "\n"
      ]
    },
    {
      "cell_type": "code",
      "source": [
        "# File path\n",
        "zip_path = '/content/drive/MyDrive/CapstoneProject/data/train.zip'\n",
        "output_folder = '/content/drive/MyDrive/CapstoneProject/data/train'\n"
      ],
      "metadata": {
        "id": "V5pXROgROZbM"
      },
      "execution_count": null,
      "outputs": []
    },
    {
      "cell_type": "code",
      "source": [
        "\n",
        "# # Begin processing\n",
        "# process_images_in_zip(zip_path, output_folder)"
      ],
      "metadata": {
        "id": "9NcIkcRQOZxs"
      },
      "execution_count": null,
      "outputs": []
    },
    {
      "cell_type": "code",
      "source": [],
      "metadata": {
        "id": "PssZl-HWX7JT"
      },
      "execution_count": null,
      "outputs": []
    }
  ]
}