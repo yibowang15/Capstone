{
  "nbformat": 4,
  "nbformat_minor": 0,
  "metadata": {
    "colab": {
      "provenance": [],
      "include_colab_link": true
    },
    "kernelspec": {
      "name": "python3",
      "display_name": "Python 3"
    },
    "language_info": {
      "name": "python"
    }
  },
  "cells": [
    {
      "cell_type": "markdown",
      "metadata": {
        "id": "view-in-github",
        "colab_type": "text"
      },
      "source": [
        "<a href=\"https://colab.research.google.com/github/yibowang15/Capstone/blob/main/dataPrep.ipynb\" target=\"_parent\"><img src=\"https://colab.research.google.com/assets/colab-badge.svg\" alt=\"Open In Colab\"/></a>"
      ]
    },
    {
      "cell_type": "code",
      "source": [
        "from google.colab import drive\n",
        "drive.mount('/content/drive')"
      ],
      "metadata": {
        "colab": {
          "base_uri": "https://localhost:8080/"
        },
        "id": "Y_Oc1tWprvN7",
        "outputId": "2e116b91-1910-494f-ac4f-6dcaba8d8b8b"
      },
      "execution_count": null,
      "outputs": [
        {
          "output_type": "stream",
          "name": "stdout",
          "text": [
            "Mounted at /content/drive\n"
          ]
        }
      ]
    },
    {
      "cell_type": "code",
      "source": [
        "# 复制训练数据到本地\n",
        "!cp -r /content/drive/MyDrive/CapstoneProject/data/TrainingData /content/\n",
        "\n",
        "# 复制验证数据到本地\n",
        "!cp -r /content/drive/MyDrive/CapstoneProject/data/ValidationData /content/"
      ],
      "metadata": {
        "id": "5lIZU-0Yc1hL"
      },
      "execution_count": null,
      "outputs": []
    },
    {
      "cell_type": "code",
      "execution_count": null,
      "metadata": {
        "id": "2diPpB94raT7"
      },
      "outputs": [],
      "source": [
        "import numpy as np\n",
        "import pandas as pd\n",
        "import zipfile\n",
        "\n",
        "# Use tensorflow.keras.preprocessing.image\n",
        "from tensorflow.keras.preprocessing.image import load_img\n",
        "from tensorflow.keras.utils import image_dataset_from_directory\n",
        "\n",
        "# we will be using ImageDataGenerator to run the data augmentation\n",
        "from tensorflow.keras.preprocessing.image import ImageDataGenerator\n",
        "\n",
        "# import VGG 16 model and layers\n",
        "from tensorflow.keras.applications import VGG16\n",
        "from tensorflow.keras.layers import Dense, Flatten\n",
        "from tensorflow.keras.models import Model\n",
        "from keras.utils import to_categorical\n",
        "\n",
        "# split it in to validation and training data\n",
        "from sklearn.model_selection import train_test_split\n",
        "import matplotlib.pyplot as plt\n",
        "import random\n",
        "\n",
        "\n",
        "import os\n"
      ]
    },
    {
      "cell_type": "markdown",
      "source": [
        "\n",
        "**Data prep for training datasets**\n",
        "\n",
        "*   extracting data from training datasets   \n",
        "*   mark the label\n",
        "\n"
      ],
      "metadata": {
        "id": "IL-IcYxaLzAd"
      }
    },
    {
      "cell_type": "markdown",
      "source": [
        "## function used to doing data analysis and preprocessing\n",
        "1. `readZip` create df from zip file\n",
        "2.\n",
        "3.`display_animal_images` display dog or cat images\n"
      ],
      "metadata": {
        "id": "k5C4BhnlW0Po"
      }
    },
    {
      "cell_type": "code",
      "source": [
        "def readData(filePath, readMode, fileType=\"zip\"):\n",
        "  \"\"\"\n",
        "  Returns a DataFrame of training data with modified labels.\n",
        "\n",
        "  Parameters:\n",
        "      filePath (str): Path to the dataset file or directory.\n",
        "      readMode (str): Read mode for zip files (not used for directories).\n",
        "      fileType (str): Type of file (\"zip\" or \"dir\"). Default is \"zip\".\n",
        "\n",
        "  Returns:\n",
        "      df (pd.DataFrame): DataFrame of training data with modified labels.\n",
        "  \"\"\"\n",
        "\n",
        "  if fileType == \"zip\":\n",
        "    with zipfile.ZipFile(filePath, readMode) as z:\n",
        "      filenames = z.namelist()\n",
        "      categories = []\n",
        "      for filename in filenames:\n",
        "        try:\n",
        "          category = filename.split('.')[0].split('/')[-1]\n",
        "          if category == 'dog':\n",
        "            categories.append(1)\n",
        "          else:\n",
        "            categories.append(0)\n",
        "        except:\n",
        "          pass\n",
        "\n",
        "    df = pd.DataFrame({\n",
        "        'filename': filenames,\n",
        "        'category': categories\n",
        "    })\n",
        "\n",
        "  elif fileType == \"dir\":\n",
        "    filenames = []\n",
        "    categories = []\n",
        "    for filename in os.listdir(filePath):\n",
        "      if filename.endswith(('.png', '.jpg', '.jpeg')):\n",
        "        filenames.append(filename)\n",
        "        try:\n",
        "          category = filename.split('.')[0].split('/')[-1]\n",
        "          if category == 'dog':\n",
        "            categories.append(1)\n",
        "          else:\n",
        "            categories.append(0)\n",
        "        except:\n",
        "          pass\n",
        "\n",
        "    df = pd.DataFrame({\n",
        "        'filename': filenames,\n",
        "        'category': categories\n",
        "    })\n",
        "\n",
        "  else:\n",
        "    print(\"Invalid file type. Please choose 'zip' or 'dir'.\")\n",
        "    return None\n",
        "\n",
        "  return df\n",
        "\n"
      ],
      "metadata": {
        "id": "fFoDaB_tX7nN"
      },
      "execution_count": null,
      "outputs": []
    },
    {
      "cell_type": "markdown",
      "source": [
        "**Example usage**\n",
        "\n",
        "\n",
        "1.   For zip file\n",
        "  *   df = readData(\"/path/to/your/zipfile.zip\", 'r', fileType=\"zip\")\n",
        "2.   For directory\n",
        "  * df = readData(\"/path/to/your/directory\", 'r', fileType=\"dir\")\n",
        "\n"
      ],
      "metadata": {
        "id": "ujGZm-KMawp7"
      }
    },
    {
      "cell_type": "code",
      "source": [
        "# Read training data\n",
        "df_training = readData(\"/content/drive/MyDrive/CapstoneProject/data/TrainingData\", 'r', fileType=\"dir\")\n",
        "#df_training.head()\n",
        "\n",
        "# Save training data as .csv file\n",
        "df_training.to_csv('/content/drive/MyDrive/CapstoneProject/data/df_training.csv', index=False)\n",
        "\n",
        "# Read validation data\n",
        "df_validation = readData(\"/content/drive/MyDrive/CapstoneProject/data/ValidationData\", 'r', fileType=\"dir\")\n",
        "#df_validation.head()\n",
        "\n",
        "# Save validation data as .csv file\n",
        "df_validation.to_csv('/content/drive/MyDrive/CapstoneProject/data/df_validation.csv', index=False)\n"
      ],
      "metadata": {
        "id": "cfUBtE27sbPl"
      },
      "execution_count": null,
      "outputs": []
    },
    {
      "cell_type": "code",
      "source": [
        "# Read testing data\n",
        "df_testing = readData(\"/content/drive/MyDrive/CapstoneProject/data/TestingData\", 'r', fileType=\"dir\")\n",
        "df_testing.head()\n",
        "\n",
        "# Save testing data as .csv file\n",
        "df_testing.to_csv('/content/drive/MyDrive/CapstoneProject/data/df_testing.csv', index=False)\n"
      ],
      "metadata": {
        "id": "SFrMzMIIR6SG"
      },
      "execution_count": null,
      "outputs": []
    },
    {
      "cell_type": "code",
      "source": [
        "df_training[\"category\"].value_counts()\n",
        "df_validation[\"category\"].value_counts()"
      ],
      "metadata": {
        "colab": {
          "base_uri": "https://localhost:8080/",
          "height": 178
        },
        "id": "8RB6odjAsjIt",
        "outputId": "b4d2fc23-ad8c-411f-a3a5-3cb85990bca4"
      },
      "execution_count": null,
      "outputs": [
        {
          "output_type": "execute_result",
          "data": {
            "text/plain": [
              "category\n",
              "1    1286\n",
              "0    1214\n",
              "Name: count, dtype: int64"
            ],
            "text/html": [
              "<div>\n",
              "<style scoped>\n",
              "    .dataframe tbody tr th:only-of-type {\n",
              "        vertical-align: middle;\n",
              "    }\n",
              "\n",
              "    .dataframe tbody tr th {\n",
              "        vertical-align: top;\n",
              "    }\n",
              "\n",
              "    .dataframe thead th {\n",
              "        text-align: right;\n",
              "    }\n",
              "</style>\n",
              "<table border=\"1\" class=\"dataframe\">\n",
              "  <thead>\n",
              "    <tr style=\"text-align: right;\">\n",
              "      <th></th>\n",
              "      <th>count</th>\n",
              "    </tr>\n",
              "    <tr>\n",
              "      <th>category</th>\n",
              "      <th></th>\n",
              "    </tr>\n",
              "  </thead>\n",
              "  <tbody>\n",
              "    <tr>\n",
              "      <th>1</th>\n",
              "      <td>1286</td>\n",
              "    </tr>\n",
              "    <tr>\n",
              "      <th>0</th>\n",
              "      <td>1214</td>\n",
              "    </tr>\n",
              "  </tbody>\n",
              "</table>\n",
              "</div><br><label><b>dtype:</b> int64</label>"
            ]
          },
          "metadata": {},
          "execution_count": 7
        }
      ]
    }
  ]
}